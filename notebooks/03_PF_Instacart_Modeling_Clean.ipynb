{
 "cells": [
  {
   "cell_type": "markdown",
   "metadata": {},
   "source": [
    "### Instacart Data Science Challenge\n",
    "#### Author: Pablo Felgueres\n",
    "#### July 19th, 2017\n",
    "#### Description: Predict shopping time in store.\n",
    "#### Notebook Description:\n",
    "Run model to predict shopping time using the generated code in the challenge.\n",
    "\n",
    "Folder structure:  \n",
    ".  \n",
    "\\+ /data/\n",
    "  \n",
    ">  \\+ order_items.csv  \n",
    "   \\+ test_trips.csv  \n",
    "   \\+ train_trips.csv  \n",
    "  \n",
    "\\+ /notebooks/\n",
    ">  \\+ 01_PF_Instacart_Initial_EDA.ipynb  \n",
    ">  \\+ 02_PF_Instacart_Modeling.ipynb **(You are here)**\n",
    "\n",
    "\\+ /src/\n",
    ">  \\+ model.py  \n",
    ">  \\+ preprocessing.py  \n",
    ">  \\+ split4validation.py"
   ]
  },
  {
   "cell_type": "markdown",
   "metadata": {},
   "source": [
    "#### General file usage: \n",
    "\n",
    "There are 3 .py files:  \n",
    "  \n",
    "1) model.py: Includes the model to predict shopping time - similar to this file.\n",
    "  \n",
    "2) preprocessing.py: Includes the Preprocessing class which should be used prior to running the model --> Serves the purpose of an organized pipeline.  \n",
    "  \n",
    "3) split4validation.py: Script to split the training dataset into training-validation. This serves to evaluate the model with an outofsample to avoid overfitting. "
   ]
  },
  {
   "cell_type": "markdown",
   "metadata": {},
   "source": [
    "#### Modeling initial notes: \n",
    "\n",
    "- From the EDA, it seems there is linearity in the data. The most natural model would be to do a linear regression as baseline and work from there.  \n",
    "  \n",
    "  \n",
    "- Having information about the basket to be predicted assumes that for all future predictions there will be information from the actual purchase.  \n",
    "  \n",
    "  This doesn't make a lot of sense if this model serves the purpose of predicting future times. \n",
    "  \n",
    "  However, a model like this would be useful for inference; understand the drivers of shopping times."
   ]
  },
  {
   "cell_type": "code",
   "execution_count": 1,
   "metadata": {
    "collapsed": true
   },
   "outputs": [],
   "source": [
    "import numpy as np\n",
    "import pandas as pd\n",
    "import matplotlib.pyplot as plt\n",
    "from sklearn.linear_model import LinearRegression\n",
    "from sklearn.ensemble import RandomForestRegressor\n",
    "import statsmodels.formula.api as sm\n",
    "from sklearn.model_selection import train_test_split, cross_val_score\n",
    "import sys\n",
    "sys.path.append('../src/')\n",
    "from preprocessing import Preprocess\n",
    "from split4validation import split\n",
    "from sklearn.metrics import mean_squared_error, make_scorer, r2_score, mean_absolute_error\n",
    "import seaborn as sns\n",
    "from sklearn.linear_model import Lasso\n",
    "sns.set_style('white')\n",
    "%matplotlib inline"
   ]
  },
  {
   "cell_type": "markdown",
   "metadata": {},
   "source": [
    "Go to the preprocess.py file to see the code on the preprocess methods. \n",
    "Broadly, it: \n",
    "- Preprocessing of data prior to model fit\n",
    "- Returns feature engineered datasets\n",
    "- Handles dummy variables without leakages\n",
    "- Handles scaling"
   ]
  },
  {
   "cell_type": "markdown",
   "metadata": {},
   "source": [
    "THIS SECTION IS RAN WITH A SPLIT OF THE TRAIN VALIDATION. SEE BOTTOM FOR TRAIN - TEST."
   ]
  },
  {
   "cell_type": "code",
   "execution_count": 2,
   "metadata": {},
   "outputs": [],
   "source": [
    "#Split train into train-validation.\n",
    "train_order, train_trips, val_order, val_trips, val_y = split('../data/')\n",
    "#Init preprocessing class.\n",
    "data = Preprocess(train_order, train_trips, val_order, val_trips)\n",
    "#Fit\n",
    "data.fit()"
   ]
  },
  {
   "cell_type": "code",
   "execution_count": 3,
   "metadata": {},
   "outputs": [],
   "source": [
    "#Get data either scaled\n",
    "X_train_scaled, X_val_scaled, val_ids, y_train_sqrt = data.get_data(scale = True)\n",
    "\n",
    "#Not scaled\n",
    "X_train, X_val, test_ids, y_train = data.get_data(scale = False) "
   ]
  },
  {
   "cell_type": "code",
   "execution_count": 4,
   "metadata": {},
   "outputs": [
    {
     "data": {
      "text/html": [
       "<div>\n",
       "<style>\n",
       "    .dataframe thead tr:only-child th {\n",
       "        text-align: right;\n",
       "    }\n",
       "\n",
       "    .dataframe thead th {\n",
       "        text-align: left;\n",
       "    }\n",
       "\n",
       "    .dataframe tbody tr th {\n",
       "        vertical-align: top;\n",
       "    }\n",
       "</style>\n",
       "<table border=\"1\" class=\"dataframe\">\n",
       "  <thead>\n",
       "    <tr style=\"text-align: right;\">\n",
       "      <th></th>\n",
       "      <th>basket_qty</th>\n",
       "      <th>dist_i_cnt</th>\n",
       "      <th>dist_dpts_cnt</th>\n",
       "      <th>reorder_factor</th>\n",
       "      <th>is_afternoon</th>\n",
       "      <th>busy_day</th>\n",
       "      <th>store_1</th>\n",
       "      <th>store_3</th>\n",
       "      <th>store_5</th>\n",
       "      <th>store_6</th>\n",
       "      <th>store_29</th>\n",
       "      <th>store_31</th>\n",
       "      <th>store_54</th>\n",
       "      <th>store_78</th>\n",
       "      <th>store_90</th>\n",
       "      <th>store_105</th>\n",
       "      <th>store_115</th>\n",
       "      <th>store_123</th>\n",
       "      <th>store_126</th>\n",
       "      <th>store_148</th>\n",
       "    </tr>\n",
       "  </thead>\n",
       "  <tbody>\n",
       "    <tr>\n",
       "      <th>0</th>\n",
       "      <td>39.0</td>\n",
       "      <td>26</td>\n",
       "      <td>11</td>\n",
       "      <td>1.080268</td>\n",
       "      <td>0</td>\n",
       "      <td>1</td>\n",
       "      <td>0</td>\n",
       "      <td>0</td>\n",
       "      <td>0</td>\n",
       "      <td>1</td>\n",
       "      <td>0</td>\n",
       "      <td>0</td>\n",
       "      <td>0</td>\n",
       "      <td>0</td>\n",
       "      <td>0</td>\n",
       "      <td>0</td>\n",
       "      <td>0</td>\n",
       "      <td>0</td>\n",
       "      <td>0</td>\n",
       "      <td>0</td>\n",
       "    </tr>\n",
       "    <tr>\n",
       "      <th>1</th>\n",
       "      <td>183.0</td>\n",
       "      <td>33</td>\n",
       "      <td>8</td>\n",
       "      <td>1.129887</td>\n",
       "      <td>0</td>\n",
       "      <td>1</td>\n",
       "      <td>1</td>\n",
       "      <td>0</td>\n",
       "      <td>0</td>\n",
       "      <td>0</td>\n",
       "      <td>0</td>\n",
       "      <td>0</td>\n",
       "      <td>0</td>\n",
       "      <td>0</td>\n",
       "      <td>0</td>\n",
       "      <td>0</td>\n",
       "      <td>0</td>\n",
       "      <td>0</td>\n",
       "      <td>0</td>\n",
       "      <td>0</td>\n",
       "    </tr>\n",
       "    <tr>\n",
       "      <th>2</th>\n",
       "      <td>92.0</td>\n",
       "      <td>71</td>\n",
       "      <td>10</td>\n",
       "      <td>1.194137</td>\n",
       "      <td>0</td>\n",
       "      <td>1</td>\n",
       "      <td>1</td>\n",
       "      <td>0</td>\n",
       "      <td>0</td>\n",
       "      <td>0</td>\n",
       "      <td>0</td>\n",
       "      <td>0</td>\n",
       "      <td>0</td>\n",
       "      <td>0</td>\n",
       "      <td>0</td>\n",
       "      <td>0</td>\n",
       "      <td>0</td>\n",
       "      <td>0</td>\n",
       "      <td>0</td>\n",
       "      <td>0</td>\n",
       "    </tr>\n",
       "    <tr>\n",
       "      <th>3</th>\n",
       "      <td>186.0</td>\n",
       "      <td>39</td>\n",
       "      <td>7</td>\n",
       "      <td>1.221619</td>\n",
       "      <td>0</td>\n",
       "      <td>1</td>\n",
       "      <td>1</td>\n",
       "      <td>0</td>\n",
       "      <td>0</td>\n",
       "      <td>0</td>\n",
       "      <td>0</td>\n",
       "      <td>0</td>\n",
       "      <td>0</td>\n",
       "      <td>0</td>\n",
       "      <td>0</td>\n",
       "      <td>0</td>\n",
       "      <td>0</td>\n",
       "      <td>0</td>\n",
       "      <td>0</td>\n",
       "      <td>0</td>\n",
       "    </tr>\n",
       "    <tr>\n",
       "      <th>4</th>\n",
       "      <td>21.0</td>\n",
       "      <td>12</td>\n",
       "      <td>6</td>\n",
       "      <td>1.029148</td>\n",
       "      <td>0</td>\n",
       "      <td>1</td>\n",
       "      <td>1</td>\n",
       "      <td>0</td>\n",
       "      <td>0</td>\n",
       "      <td>0</td>\n",
       "      <td>0</td>\n",
       "      <td>0</td>\n",
       "      <td>0</td>\n",
       "      <td>0</td>\n",
       "      <td>0</td>\n",
       "      <td>0</td>\n",
       "      <td>0</td>\n",
       "      <td>0</td>\n",
       "      <td>0</td>\n",
       "      <td>0</td>\n",
       "    </tr>\n",
       "  </tbody>\n",
       "</table>\n",
       "</div>"
      ],
      "text/plain": [
       "   basket_qty  dist_i_cnt  dist_dpts_cnt  reorder_factor  is_afternoon  \\\n",
       "0        39.0          26             11        1.080268             0   \n",
       "1       183.0          33              8        1.129887             0   \n",
       "2        92.0          71             10        1.194137             0   \n",
       "3       186.0          39              7        1.221619             0   \n",
       "4        21.0          12              6        1.029148             0   \n",
       "\n",
       "   busy_day  store_1  store_3  store_5  store_6  store_29  store_31  store_54  \\\n",
       "0         1        0        0        0        1         0         0         0   \n",
       "1         1        1        0        0        0         0         0         0   \n",
       "2         1        1        0        0        0         0         0         0   \n",
       "3         1        1        0        0        0         0         0         0   \n",
       "4         1        1        0        0        0         0         0         0   \n",
       "\n",
       "   store_78  store_90  store_105  store_115  store_123  store_126  store_148  \n",
       "0         0         0          0          0          0          0          0  \n",
       "1         0         0          0          0          0          0          0  \n",
       "2         0         0          0          0          0          0          0  \n",
       "3         0         0          0          0          0          0          0  \n",
       "4         0         0          0          0          0          0          0  "
      ]
     },
     "execution_count": 4,
     "metadata": {},
     "output_type": "execute_result"
    }
   ],
   "source": [
    "#After some preliminary feature engineering, this is what the training dataset looks like:\n",
    "X_train.head(5)"
   ]
  },
  {
   "cell_type": "markdown",
   "metadata": {},
   "source": [
    "### Baseline: Predicting with the mean"
   ]
  },
  {
   "cell_type": "code",
   "execution_count": 5,
   "metadata": {},
   "outputs": [
    {
     "name": "stdout",
     "output_type": "stream",
     "text": [
      "The MSE for mean model is  2,164,660.45553\n",
      "The MAE for mean model is  1,123.21667077\n",
      "Should be zero ----->  0.0%\n"
     ]
    }
   ],
   "source": [
    "#As baseline I'll use the mean as predictor first. \n",
    "y_means = np.ones_like(val_y) * np.mean(val_y.values)\n",
    "print 'The MSE for mean model is {0: ,}'.format(mean_squared_error(val_y, y_means))\n",
    "print 'The MAE for mean model is {0: ,}'.format(mean_absolute_error(val_y, y_means))\n",
    "print 'Should be zero -----> {0: .1%}'.format(r2_score(val_y, y_means))"
   ]
  },
  {
   "cell_type": "markdown",
   "metadata": {},
   "source": [
    "### Linear Regression"
   ]
  },
  {
   "cell_type": "code",
   "execution_count": 6,
   "metadata": {},
   "outputs": [
    {
     "name": "stdout",
     "output_type": "stream",
     "text": [
      "The MSE for untuned Lasso is  1,623,502.05319\n",
      "The MAE for untuned Lasso is  903.426735688\n"
     ]
    }
   ],
   "source": [
    "#Training the model\n",
    "model = Lasso().fit(X_train_scaled, y_train_sqrt)\n",
    "y_pred_lasso = (model.predict(X_val_scaled))**2\n",
    "print 'The MSE for untuned Lasso is {0: ,}'.format(mean_squared_error(val_y, y_pred_lasso))\n",
    "print 'The MAE for untuned Lasso is {0: ,}'.format(mean_absolute_error(val_y, y_pred_lasso))"
   ]
  },
  {
   "cell_type": "markdown",
   "metadata": {},
   "source": [
    "With the alpha as it is, were are probably driving the coefficients to zero, let's take a look."
   ]
  },
  {
   "cell_type": "code",
   "execution_count": 7,
   "metadata": {},
   "outputs": [
    {
     "data": {
      "text/plain": [
       "array([ 0.        ,  0.        , -0.        ,  0.        ,  0.        ,\n",
       "        0.        , -0.        , -0.        , -0.        , -0.        ,\n",
       "       -0.        , -0.        , -0.        , -0.        ,  0.        ,\n",
       "       -0.        , -0.        ,  0.        ,  3.32804231,  3.41536539])"
      ]
     },
     "execution_count": 7,
     "metadata": {},
     "output_type": "execute_result"
    }
   ],
   "source": [
    "model.coef_"
   ]
  },
  {
   "cell_type": "markdown",
   "metadata": {},
   "source": [
    "So we are indeed driving them to zero, meaning our alpha is overpenalizing all coefficients as it is.  \n",
    "  \n",
    "I'll cross validate on a range of alphas to find the best option."
   ]
  },
  {
   "cell_type": "code",
   "execution_count": 8,
   "metadata": {
    "collapsed": true
   },
   "outputs": [],
   "source": [
    "def model_cv(clf, X, y):\n",
    "    '''\n",
    "    Helper function to cross-validate a model.\n",
    "    '''\n",
    "    error = -1 * np.mean(cross_val_score(clf, X, y, scoring = 'neg_mean_squared_error', cv=5))\n",
    "        \n",
    "    return error"
   ]
  },
  {
   "cell_type": "code",
   "execution_count": 9,
   "metadata": {},
   "outputs": [
    {
     "data": {
      "text/plain": [
       "[<matplotlib.text.Text at 0x1344886d0>,\n",
       " <matplotlib.text.Text at 0x12bfd6390>,\n",
       " <matplotlib.text.Text at 0x11516a0d0>,\n",
       " <matplotlib.text.Text at 0x11516a7d0>,\n",
       " <matplotlib.text.Text at 0x11516aed0>,\n",
       " <matplotlib.text.Text at 0x115173610>,\n",
       " <matplotlib.text.Text at 0x115173d10>,\n",
       " <matplotlib.text.Text at 0x115180450>,\n",
       " <matplotlib.text.Text at 0x115180b50>,\n",
       " <matplotlib.text.Text at 0x115f6b290>]"
      ]
     },
     "execution_count": 9,
     "metadata": {},
     "output_type": "execute_result"
    },
    {
     "data": {
      "image/png": "[encoded data removed]",
      "text/plain": [
       "<matplotlib.figure.Figure at 0x115de8950>"
      ]
     },
     "metadata": {},
     "output_type": "display_data"
    }
   ],
   "source": [
    "#Let's cross-validate for different alphas\n",
    "alphas = np.linspace(0.0001, 0.015, 10)\n",
    "\n",
    "mse_alphas = []\n",
    "\n",
    "for a in alphas:\n",
    "    model_lasso = Lasso(alpha = a, fit_intercept=False, max_iter = 2000)\n",
    "    mse_alphas.append(model_cv(model_lasso, X_train_scaled, y_train_sqrt))\n",
    "    \n",
    "fig = plt.figure(figsize=(14,10))\n",
    "ax = fig.add_subplot(111)\n",
    "sns.pointplot(alphas, mse_alphas, color = 'red', alpha =0.5)\n",
    "ax.set_ylabel('MAE', fontsize=20, labelpad =20)\n",
    "ax.set_xlabel('Alphas', fontsize=20, labelpad = 20)\n",
    "plt.title(\"Cross-validing for Alpha in the Lasso Model\", fontsize=20)\n",
    "plt.xticks(rotation='vertical')\n",
    "\n",
    "xlabels = [format(label, '.4f') for label in alphas]\n",
    "ax.set_xticklabels(xlabels)"
   ]
  },
  {
   "cell_type": "code",
   "execution_count": 10,
   "metadata": {},
   "outputs": [],
   "source": [
    "index_min_alpha = mse_alphas.index(np.min(mse_alphas))\n",
    "\n",
    "best_alpha = alphas[index_min_alpha]"
   ]
  },
  {
   "cell_type": "code",
   "execution_count": 11,
   "metadata": {},
   "outputs": [
    {
     "name": "stdout",
     "output_type": "stream",
     "text": [
      "The MSE tuned Lasso is  1,551,418.96863\n",
      "The MAE tuned Lasso is  876.299326771\n"
     ]
    }
   ],
   "source": [
    "#Training the model\n",
    "model = Lasso(alpha = best_alpha).fit(X_train_scaled, y_train_sqrt)\n",
    "y_pred_lasso = (model.predict(X_val_scaled))**2\n",
    "print 'The MSE tuned Lasso is {0: ,}'.format(mean_squared_error(val_y, y_pred_lasso))\n",
    "print 'The MAE tuned Lasso is {0: ,}'.format(mean_absolute_error(val_y, y_pred_lasso))"
   ]
  },
  {
   "cell_type": "code",
   "execution_count": 12,
   "metadata": {},
   "outputs": [
    {
     "name": "stdout",
     "output_type": "stream",
     "text": [
      "Index([u'store_31', u'store_78', u'store_123', u'store_148'], dtype='object', name=1)\n"
     ]
    }
   ],
   "source": [
    "#Looking at the coefficienct\n",
    "coeff = pd.DataFrame(np.dstack((model.coef_, X_train_scaled.columns))[0]).set_index(1).rename(columns = {0: 'Coeff'})\n",
    "eliminated_coeff = coeff.Coeff == 0\n",
    "print coeff[eliminated_coeff].index"
   ]
  },
  {
   "cell_type": "markdown",
   "metadata": {},
   "source": [
    "The coefficient that were driven to zero are primarily store_ids! There must be a better feature to factor in the store id.  \n",
    "  \n",
    "That would require a bit more exploration than this sprint allows."
   ]
  },
  {
   "cell_type": "markdown",
   "metadata": {},
   "source": [
    "Let's plot the most important features from the current selection and their magnitude."
   ]
  },
  {
   "cell_type": "code",
   "execution_count": 13,
   "metadata": {
    "collapsed": true
   },
   "outputs": [],
   "source": [
    "coeff['abs'] = np.absolute(coeff.Coeff)\n",
    "top15 = coeff.sort_values('abs', ascending = False).iloc[:12].reset_index()"
   ]
  },
  {
   "cell_type": "code",
   "execution_count": 14,
   "metadata": {},
   "outputs": [
    {
     "data": {
      "image/png": "[encoded data removed]",
      "text/plain": [
       "<matplotlib.figure.Figure at 0x109707510>"
      ]
     },
     "metadata": {},
     "output_type": "display_data"
    }
   ],
   "source": [
    "fig = plt.figure(figsize=(14,10))\n",
    "ax_ = fig.add_subplot(111)\n",
    "sns.barplot(x = 1, y = 'Coeff', data = top15, alpha=0.8, ax = ax_)\n",
    "ax_.set_ylabel('Coefficients', fontsize=20, labelpad=20)\n",
    "ax_.set_xlabel('Top 12 Features', fontsize=20, labelpad=20)\n",
    "plt.title('Feature Importance: L1 Regularized Regression Coefficients', fontsize = 20)\n",
    "for tick in ax_.xaxis.get_major_ticks():\n",
    "                tick.label.set_fontsize(14) \n",
    "                tick.label.set_rotation('vertical')\n",
    "sns.despine(left=True, bottom=True)"
   ]
  },
  {
   "cell_type": "markdown",
   "metadata": {},
   "source": [
    "### Random Forest"
   ]
  },
  {
   "cell_type": "code",
   "execution_count": 15,
   "metadata": {},
   "outputs": [
    {
     "name": "stdout",
     "output_type": "stream",
     "text": [
      "MAE for an outofbox RandomForest is: 846.766252213\n",
      "MSE for an outofbox RandomForest is: 1429190.93072\n"
     ]
    }
   ],
   "source": [
    "#Out of the box RF\n",
    "rf = RandomForestRegressor(n_estimators = 100, max_features = 'sqrt')\n",
    "\n",
    "#Train - predict \n",
    "rf.fit(X_train_scaled, y_train_sqrt)\n",
    "y_pred_rf = rf.predict(X_val_scaled)\n",
    "\n",
    "print 'MAE for an outofbox RandomForest is: {0:}'.format(mean_absolute_error(val_y, y_pred_rf **2))\n",
    "print 'MSE for an outofbox RandomForest is: {0:}'.format(mean_squared_error(val_y, y_pred_rf **2))"
   ]
  },
  {
   "cell_type": "markdown",
   "metadata": {},
   "source": [
    "So after all the work on the Lasso, it turns out a Random Forest outperforms in terms of bias. \n",
    "  \n",
    "Still, each has it's advantages.\n",
    "\n",
    "Depending on our goal for this model, these are some considerations to take into account going forward from here.\n",
    "\n",
    "#### Lasso\n",
    "\n",
    "Advantages over Tree-based Model:\n",
    "- Since it is a linear model, we can provide measurable insight on how our features influence shopping duration, providng extra value for teams within Instacart to guide optimizations.\n",
    "- It is not parallizable yet it doesn't require great computational challenges.\n",
    "- This model could be updated online as more data becomes available using stochastic gradient descent, instead of batch processing.\n",
    "\n",
    "Considerations:\n",
    "- As we saw from plotting and the MSE, there are high infulential points to be addressed before fitting the model. - We should explore increasing the complexity of this model, while cross-validating to avoid overfitting. Ideas would be to create cross-effects between our continous variables and some variable transformations (squared, cubed).\n",
    "\n",
    "#### Random Forest:\n",
    "\n",
    "Advantages over Lasso:  \n",
    "  \n",
    "- Can be parallelized so fitting larger sized datasets is not a problem\n",
    "- Fast predections once it has been trained\n",
    "\n",
    "Considerations: \n",
    "- We can take a look at a relative metric of feature importance to gauge their importance agains shopping duration. Still it is not as interpretable as the Lasso counterpart. \n",
    "- Needs to be tuned. Naturally we could increase the number of estimators and vary the number of maximum random features per split. I would use cross-validation to pick on the parameters that decrease the error metric.\n",
    "- We could try a boosted variation of the tree-based model.\n",
    "\n",
    "In any case, I would spent more time developing the feature space -- since better features typically beat better models."
   ]
  },
  {
   "cell_type": "markdown",
   "metadata": {},
   "source": [
    "### Predictions on the test set."
   ]
  },
  {
   "cell_type": "code",
   "execution_count": 16,
   "metadata": {},
   "outputs": [],
   "source": [
    "from os import path, listdir\n",
    "#Get file names\n",
    "files = [path.join('../data/', file) for file in sorted(listdir('../data/')) if file.endswith('csv')]"
   ]
  },
  {
   "cell_type": "code",
   "execution_count": 17,
   "metadata": {},
   "outputs": [
    {
     "name": "stdout",
     "output_type": "stream",
     "text": [
      "['../data/order_items.csv', '../data/test_trips.csv', '../data/train_trips.csv']\n"
     ]
    }
   ],
   "source": [
    "print files"
   ]
  },
  {
   "cell_type": "code",
   "execution_count": 18,
   "metadata": {},
   "outputs": [],
   "source": [
    "#Read to dataframes\n",
    "df_order_items = pd.read_csv(files[0])\n",
    "df_test_trips = pd.read_csv(files[1])\n",
    "df_train_trips = pd.read_csv(files[2])"
   ]
  },
  {
   "cell_type": "code",
   "execution_count": 19,
   "metadata": {
    "collapsed": true
   },
   "outputs": [],
   "source": [
    "#Separate for Preprocess consumption\n",
    "train_order = df_order_items.loc[df_order_items.trip_id.isin(df_train_trips.trip_id)]\n",
    "train_trips = df_train_trips.loc[df_train_trips.trip_id.isin(df_train_trips.trip_id)]\n",
    "\n",
    "test_order = df_order_items.loc[df_order_items.trip_id.isin(df_test_trips.trip_id)]\n",
    "test_trips = df_test_trips.loc[df_test_trips.trip_id.isin(df_test_trips.trip_id)]"
   ]
  },
  {
   "cell_type": "code",
   "execution_count": 20,
   "metadata": {},
   "outputs": [],
   "source": [
    "#Init preprocessing class.\n",
    "data = Preprocess(train_order, train_trips, test_order, test_trips)\n",
    "#Fit\n",
    "data.fit()\n",
    "#Get data either scaled\n",
    "X_train_scaled, X_test_scaled, test_ids, y_train_sqrt = data.get_data(scale = True)"
   ]
  },
  {
   "cell_type": "code",
   "execution_count": 29,
   "metadata": {},
   "outputs": [],
   "source": [
    "#Training\n",
    "model = Lasso(alpha = best_alpha).fit(X_train_scaled, y_train_sqrt)\n",
    "#Prediction\n",
    "y_pred_lasso = (model.predict(X_test_scaled))**2"
   ]
  },
  {
   "cell_type": "code",
   "execution_count": 44,
   "metadata": {},
   "outputs": [],
   "source": [
    "#Formating for challenge rules\n",
    "test_ids = test_ids.to_frame()\n",
    "test_ids['y_pred'] = y_pred_lasso\n",
    "test_ids = test_ids.rename(columns={'y_pred': 'shopping_time'})\n",
    "test_ids.set_index('trip_id', inplace=True)"
   ]
  },
  {
   "cell_type": "code",
   "execution_count": 48,
   "metadata": {
    "collapsed": true
   },
   "outputs": [],
   "source": [
    "#Export as csv\n",
    "test_ids.to_csv('sample.csv')"
   ]
  },
  {
   "cell_type": "code",
   "execution_count": 49,
   "metadata": {},
   "outputs": [
    {
     "data": {
      "text/html": [
       "<div>\n",
       "<style>\n",
       "    .dataframe thead tr:only-child th {\n",
       "        text-align: right;\n",
       "    }\n",
       "\n",
       "    .dataframe thead th {\n",
       "        text-align: left;\n",
       "    }\n",
       "\n",
       "    .dataframe tbody tr th {\n",
       "        vertical-align: top;\n",
       "    }\n",
       "</style>\n",
       "<table border=\"1\" class=\"dataframe\">\n",
       "  <thead>\n",
       "    <tr style=\"text-align: right;\">\n",
       "      <th></th>\n",
       "      <th>shopping_time</th>\n",
       "    </tr>\n",
       "    <tr>\n",
       "      <th>trip_id</th>\n",
       "      <th></th>\n",
       "    </tr>\n",
       "  </thead>\n",
       "  <tbody>\n",
       "    <tr>\n",
       "      <th>4310899</th>\n",
       "      <td>2445.294187</td>\n",
       "    </tr>\n",
       "    <tr>\n",
       "      <th>4310904</th>\n",
       "      <td>4006.600407</td>\n",
       "    </tr>\n",
       "    <tr>\n",
       "      <th>4310907</th>\n",
       "      <td>2335.957549</td>\n",
       "    </tr>\n",
       "    <tr>\n",
       "      <th>4310911</th>\n",
       "      <td>1533.182710</td>\n",
       "    </tr>\n",
       "    <tr>\n",
       "      <th>4310328</th>\n",
       "      <td>2340.402845</td>\n",
       "    </tr>\n",
       "    <tr>\n",
       "      <th>4310306</th>\n",
       "      <td>2392.768218</td>\n",
       "    </tr>\n",
       "    <tr>\n",
       "      <th>4311006</th>\n",
       "      <td>1279.926549</td>\n",
       "    </tr>\n",
       "    <tr>\n",
       "      <th>4310319</th>\n",
       "      <td>2079.672576</td>\n",
       "    </tr>\n",
       "    <tr>\n",
       "      <th>4311215</th>\n",
       "      <td>1675.479302</td>\n",
       "    </tr>\n",
       "    <tr>\n",
       "      <th>4311270</th>\n",
       "      <td>1434.367847</td>\n",
       "    </tr>\n",
       "  </tbody>\n",
       "</table>\n",
       "</div>"
      ],
      "text/plain": [
       "         shopping_time\n",
       "trip_id               \n",
       "4310899    2445.294187\n",
       "4310904    4006.600407\n",
       "4310907    2335.957549\n",
       "4310911    1533.182710\n",
       "4310328    2340.402845\n",
       "4310306    2392.768218\n",
       "4311006    1279.926549\n",
       "4310319    2079.672576\n",
       "4311215    1675.479302\n",
       "4311270    1434.367847"
      ]
     },
     "execution_count": 49,
     "metadata": {},
     "output_type": "execute_result"
    }
   ],
   "source": [
    "test_ids.head(10)"
   ]
  },
  {
   "cell_type": "code",
   "execution_count": null,
   "metadata": {
    "collapsed": true
   },
   "outputs": [],
   "source": []
  }
 ],
 "metadata": {
  "kernelspec": {
   "display_name": "Python [conda root]",
   "language": "python",
   "name": "conda-root-py"
  },
  "language_info": {
   "codemirror_mode": {
    "name": "ipython",
    "version": 2
   },
   "file_extension": ".py",
   "mimetype": "text/x-python",
   "name": "python",
   "nbconvert_exporter": "python",
   "pygments_lexer": "ipython2",
   "version": "2.7.13"
  }
 },
 "nbformat": 4,
 "nbformat_minor": 2
}
